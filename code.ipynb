{
 "cells": [
  {
   "cell_type": "markdown",
   "id": "54043d4b",
   "metadata": {},
   "source": [
    "## Lab - EDA Univariate Analysis: Diving into Amazon UK Product Insights\n",
    "\n",
    "**Objective**: Explore the product listing dynamics on Amazon UK to extract actionable business insights. By understanding the distribution, central tendencies, and relationships of various product attributes, businesses can make more informed decisions on product positioning, pricing strategies, and inventory management.\n",
    "\n",
    "**Dataset**: This lab utilizes the [Amazon UK product dataset](https://www.kaggle.com/datasets/asaniczka/uk-optimal-product-price-prediction/)\n",
    "which provides information on product categories, brands, prices, ratings, and more from from Amazon UK. You'll need to download it to start working with it.\n"
   ]
  },
  {
   "cell_type": "markdown",
   "id": "23e49b29",
   "metadata": {},
   "source": [
    "### Part 1: Understanding Product Categories\n"
   ]
  },
  {
   "cell_type": "markdown",
   "id": "364df2d5",
   "metadata": {},
   "source": [
    "\n",
    "**Business Question**: What are the most popular product categories on Amazon UK, and how do they compare in terms of listing frequency?\n",
    "\n",
    "1. **Frequency Tables**:\n",
    "    - Generate a frequency table for the product `category`.\n",
    "    - Which are the top 5 most listed product categories?\n"
   ]
  },
  {
   "cell_type": "code",
   "execution_count": 51,
   "id": "786c39e8",
   "metadata": {},
   "outputs": [],
   "source": [
    "import pandas as pd\n",
    "import matplotlib.pyplot as plt \n",
    "import seaborn as sns \n",
    "import numpy as np \n",
    "\n",
    "%matplotlib inline\n",
    "pd.set_option('display.max_columns', None)"
   ]
  },
  {
   "cell_type": "code",
   "execution_count": 52,
   "id": "edb15b84",
   "metadata": {},
   "outputs": [],
   "source": [
    "amz = pd.read_csv(\"amz_uk_price_prediction_dataset.csv\")\n"
   ]
  },
  {
   "cell_type": "code",
   "execution_count": 53,
   "id": "7b3e5a89",
   "metadata": {},
   "outputs": [
    {
     "data": {
      "text/html": [
       "<div>\n",
       "<style scoped>\n",
       "    .dataframe tbody tr th:only-of-type {\n",
       "        vertical-align: middle;\n",
       "    }\n",
       "\n",
       "    .dataframe tbody tr th {\n",
       "        vertical-align: top;\n",
       "    }\n",
       "\n",
       "    .dataframe thead th {\n",
       "        text-align: right;\n",
       "    }\n",
       "</style>\n",
       "<table border=\"1\" class=\"dataframe\">\n",
       "  <thead>\n",
       "    <tr style=\"text-align: right;\">\n",
       "      <th></th>\n",
       "      <th>uid</th>\n",
       "      <th>asin</th>\n",
       "      <th>title</th>\n",
       "      <th>stars</th>\n",
       "      <th>reviews</th>\n",
       "      <th>price</th>\n",
       "      <th>isBestSeller</th>\n",
       "      <th>boughtInLastMonth</th>\n",
       "      <th>category</th>\n",
       "    </tr>\n",
       "  </thead>\n",
       "  <tbody>\n",
       "    <tr>\n",
       "      <th>0</th>\n",
       "      <td>1</td>\n",
       "      <td>B09B96TG33</td>\n",
       "      <td>Echo Dot (5th generation, 2022 release) | Big ...</td>\n",
       "      <td>4.7</td>\n",
       "      <td>15308</td>\n",
       "      <td>21.99</td>\n",
       "      <td>False</td>\n",
       "      <td>0</td>\n",
       "      <td>Hi-Fi Speakers</td>\n",
       "    </tr>\n",
       "    <tr>\n",
       "      <th>1</th>\n",
       "      <td>2</td>\n",
       "      <td>B01HTH3C8S</td>\n",
       "      <td>Anker Soundcore mini, Super-Portable Bluetooth...</td>\n",
       "      <td>4.7</td>\n",
       "      <td>98099</td>\n",
       "      <td>23.99</td>\n",
       "      <td>True</td>\n",
       "      <td>0</td>\n",
       "      <td>Hi-Fi Speakers</td>\n",
       "    </tr>\n",
       "    <tr>\n",
       "      <th>2</th>\n",
       "      <td>3</td>\n",
       "      <td>B09B8YWXDF</td>\n",
       "      <td>Echo Dot (5th generation, 2022 release) | Big ...</td>\n",
       "      <td>4.7</td>\n",
       "      <td>15308</td>\n",
       "      <td>21.99</td>\n",
       "      <td>False</td>\n",
       "      <td>0</td>\n",
       "      <td>Hi-Fi Speakers</td>\n",
       "    </tr>\n",
       "    <tr>\n",
       "      <th>3</th>\n",
       "      <td>4</td>\n",
       "      <td>B09B8T5VGV</td>\n",
       "      <td>Echo Dot with clock (5th generation, 2022 rele...</td>\n",
       "      <td>4.7</td>\n",
       "      <td>7205</td>\n",
       "      <td>31.99</td>\n",
       "      <td>False</td>\n",
       "      <td>0</td>\n",
       "      <td>Hi-Fi Speakers</td>\n",
       "    </tr>\n",
       "    <tr>\n",
       "      <th>4</th>\n",
       "      <td>5</td>\n",
       "      <td>B09WX6QD65</td>\n",
       "      <td>Introducing Echo Pop | Full sound compact Wi-F...</td>\n",
       "      <td>4.6</td>\n",
       "      <td>1881</td>\n",
       "      <td>17.99</td>\n",
       "      <td>False</td>\n",
       "      <td>0</td>\n",
       "      <td>Hi-Fi Speakers</td>\n",
       "    </tr>\n",
       "  </tbody>\n",
       "</table>\n",
       "</div>"
      ],
      "text/plain": [
       "   uid        asin                                              title  stars  \\\n",
       "0    1  B09B96TG33  Echo Dot (5th generation, 2022 release) | Big ...    4.7   \n",
       "1    2  B01HTH3C8S  Anker Soundcore mini, Super-Portable Bluetooth...    4.7   \n",
       "2    3  B09B8YWXDF  Echo Dot (5th generation, 2022 release) | Big ...    4.7   \n",
       "3    4  B09B8T5VGV  Echo Dot with clock (5th generation, 2022 rele...    4.7   \n",
       "4    5  B09WX6QD65  Introducing Echo Pop | Full sound compact Wi-F...    4.6   \n",
       "\n",
       "   reviews  price  isBestSeller  boughtInLastMonth        category  \n",
       "0    15308  21.99         False                  0  Hi-Fi Speakers  \n",
       "1    98099  23.99          True                  0  Hi-Fi Speakers  \n",
       "2    15308  21.99         False                  0  Hi-Fi Speakers  \n",
       "3     7205  31.99         False                  0  Hi-Fi Speakers  \n",
       "4     1881  17.99         False                  0  Hi-Fi Speakers  "
      ]
     },
     "execution_count": 53,
     "metadata": {},
     "output_type": "execute_result"
    }
   ],
   "source": [
    "amz.head()"
   ]
  },
  {
   "cell_type": "code",
   "execution_count": 54,
   "id": "0c41ff35",
   "metadata": {},
   "outputs": [
    {
     "name": "stdout",
     "output_type": "stream",
     "text": [
      "<class 'pandas.core.frame.DataFrame'>\n",
      "RangeIndex: 2443651 entries, 0 to 2443650\n",
      "Data columns (total 9 columns):\n",
      " #   Column             Dtype  \n",
      "---  ------             -----  \n",
      " 0   uid                int64  \n",
      " 1   asin               object \n",
      " 2   title              object \n",
      " 3   stars              float64\n",
      " 4   reviews            int64  \n",
      " 5   price              float64\n",
      " 6   isBestSeller       bool   \n",
      " 7   boughtInLastMonth  int64  \n",
      " 8   category           object \n",
      "dtypes: bool(1), float64(2), int64(3), object(3)\n",
      "memory usage: 151.5+ MB\n"
     ]
    }
   ],
   "source": [
    "amz.info()"
   ]
  },
  {
   "cell_type": "code",
   "execution_count": 55,
   "id": "00022b9f",
   "metadata": {},
   "outputs": [
    {
     "name": "stdout",
     "output_type": "stream",
     "text": [
      "<class 'pandas.core.series.Series'>\n",
      "RangeIndex: 2443651 entries, 0 to 2443650\n",
      "Series name: category\n",
      "Non-Null Count    Dtype \n",
      "--------------    ----- \n",
      "2443651 non-null  object\n",
      "dtypes: object(1)\n",
      "memory usage: 18.6+ MB\n"
     ]
    }
   ],
   "source": [
    "amz['category'].info()"
   ]
  },
  {
   "cell_type": "code",
   "execution_count": 56,
   "id": "53da7121",
   "metadata": {},
   "outputs": [
    {
     "data": {
      "text/plain": [
       "category\n",
       "Sports & Outdoors                         836265\n",
       "Beauty                                     19312\n",
       "Handmade Clothing, Shoes & Accessories     19229\n",
       "Bath & Body                                19092\n",
       "Birthday Gifts                             18978\n",
       "                                           ...  \n",
       "Alexa Built-In Devices                       107\n",
       "Motorbike Chassis                            107\n",
       "Plugs                                        107\n",
       "Smart Home Security & Lighting               104\n",
       "Smart Speakers                                54\n",
       "Name: count, Length: 296, dtype: int64"
      ]
     },
     "execution_count": 56,
     "metadata": {},
     "output_type": "execute_result"
    }
   ],
   "source": [
    "frequency_table = amz['category'].value_counts()\n",
    "frequency_table\n",
    "#Frequency table created and displayed"
   ]
  },
  {
   "cell_type": "code",
   "execution_count": 57,
   "id": "e32b4cb7",
   "metadata": {},
   "outputs": [
    {
     "data": {
      "text/plain": [
       "category\n",
       "Sports & Outdoors                         836265\n",
       "Beauty                                     19312\n",
       "Handmade Clothing, Shoes & Accessories     19229\n",
       "Bath & Body                                19092\n",
       "Birthday Gifts                             18978\n",
       "Name: count, dtype: int64"
      ]
     },
     "execution_count": 57,
     "metadata": {},
     "output_type": "execute_result"
    }
   ],
   "source": [
    "frequency_table.head()\n",
    "#Top 5 product categories in category column displayed "
   ]
  },
  {
   "cell_type": "markdown",
   "id": "e645ab93",
   "metadata": {},
   "source": [
    "2. **Visualizations**:\n",
    "    - Display the distribution of products across different categories using a bar chart. *If you face problems understanding the chart, do it for a subset of top categories.*\n",
    "    - For a subset of top categories, visualize their proportions using a pie chart. Does any category dominate the listings?"
   ]
  },
  {
   "cell_type": "code",
   "execution_count": 58,
   "id": "22853e7f",
   "metadata": {},
   "outputs": [
    {
     "name": "stderr",
     "output_type": "stream",
     "text": [
      "C:\\Users\\jgest\\AppData\\Local\\Temp\\ipykernel_14456\\1484840031.py:8: FutureWarning: \n",
      "\n",
      "Passing `palette` without assigning `hue` is deprecated and will be removed in v0.14.0. Assign the `x` variable to `hue` and set `legend=False` for the same effect.\n",
      "\n",
      "  sns.barplot(\n"
     ]
    },
    {
     "data": {
      "image/png": "[encoded data removed]",
      "text/plain": [
       "<Figure size 1000x500 with 1 Axes>"
      ]
     },
     "metadata": {},
     "output_type": "display_data"
    }
   ],
   "source": [
    "\n",
    "frequency_table = amz['category'].value_counts().reset_index()\n",
    "frequency_table.columns = ['category', 'count']\n",
    "\n",
    "\n",
    "top10 = frequency_table.head(10)\n",
    "\n",
    "plt.figure(figsize=(10,5))\n",
    "sns.barplot(\n",
    "    data=top10,\n",
    "    x='category',\n",
    "    y='count',\n",
    "    palette='viridis'\n",
    ")\n",
    "plt.xticks(rotation=90)\n",
    "plt.title('Top 10 Product Categories on Amazon UK')\n",
    "plt.xlabel('Category')\n",
    "plt.ylabel('Number of Listings')\n",
    "plt.show()\n"
   ]
  },
  {
   "cell_type": "code",
   "execution_count": 59,
   "id": "ba73bccc",
   "metadata": {},
   "outputs": [
    {
     "data": {
      "image/png": "[encoded data removed]",
      "text/plain": [
       "<Figure size 1000x500 with 1 Axes>"
      ]
     },
     "metadata": {},
     "output_type": "display_data"
    }
   ],
   "source": [
    "\n",
    "top5 = frequency_table.head(5)\n",
    "\n",
    "plt.figure(figsize=(10,5))\n",
    "wedges, texts = plt.pie(\n",
    "    top5['count'],\n",
    "    startangle=90,\n",
    "    colors=sns.color_palette('viridis', n_colors=5)\n",
    ")\n",
    "\n",
    "# clear legend with labels and percentages\n",
    "plt.legend(\n",
    "    wedges,\n",
    "    [f\"{cat}: {count / top5['count'].sum():.1%}\" for cat, count in zip(top5['category'], top5['count'])],\n",
    "    title=\"Categories\",\n",
    "    loc=\"center left\",\n",
    "    bbox_to_anchor=(1, 0, 0.5, 1)  # move legend outside the chart\n",
    ")\n",
    "\n",
    "plt.title('Proportion of Top 5 Product Categories on Amazon UK')\n",
    "plt.show()"
   ]
  },
  {
   "cell_type": "markdown",
   "id": "f342d34a",
   "metadata": {},
   "source": [
    "Insights:\n",
    "As we can clearly see in the the charts Sports & Outdors product category clearly dominates the listings."
   ]
  },
  {
   "cell_type": "markdown",
   "id": "9426e61a",
   "metadata": {},
   "source": [
    "### Part 2: Delving into Product Pricing\n",
    "\n",
    "**Business Question**: How are products priced on Amazon UK, and are there specific price points or ranges that are more common?\n"
   ]
  },
  {
   "cell_type": "markdown",
   "id": "4c6ead92",
   "metadata": {},
   "source": [
    "\n",
    "1. **Measures of Centrality**:\n",
    "    - Calculate the mean, median, and mode for the `price` of products.\n",
    "    - What's the average price point of products listed? How does this compare with the most common price point (mode)?\n"
   ]
  },
  {
   "cell_type": "code",
   "execution_count": 60,
   "id": "53705fe1",
   "metadata": {},
   "outputs": [
    {
     "data": {
      "text/html": [
       "<div>\n",
       "<style scoped>\n",
       "    .dataframe tbody tr th:only-of-type {\n",
       "        vertical-align: middle;\n",
       "    }\n",
       "\n",
       "    .dataframe tbody tr th {\n",
       "        vertical-align: top;\n",
       "    }\n",
       "\n",
       "    .dataframe thead th {\n",
       "        text-align: right;\n",
       "    }\n",
       "</style>\n",
       "<table border=\"1\" class=\"dataframe\">\n",
       "  <thead>\n",
       "    <tr style=\"text-align: right;\">\n",
       "      <th></th>\n",
       "      <th>uid</th>\n",
       "      <th>asin</th>\n",
       "      <th>title</th>\n",
       "      <th>stars</th>\n",
       "      <th>reviews</th>\n",
       "      <th>price</th>\n",
       "      <th>isBestSeller</th>\n",
       "      <th>boughtInLastMonth</th>\n",
       "      <th>category</th>\n",
       "    </tr>\n",
       "  </thead>\n",
       "  <tbody>\n",
       "    <tr>\n",
       "      <th>0</th>\n",
       "      <td>1</td>\n",
       "      <td>B09B96TG33</td>\n",
       "      <td>Echo Dot (5th generation, 2022 release) | Big ...</td>\n",
       "      <td>4.7</td>\n",
       "      <td>15308</td>\n",
       "      <td>21.99</td>\n",
       "      <td>False</td>\n",
       "      <td>0</td>\n",
       "      <td>Hi-Fi Speakers</td>\n",
       "    </tr>\n",
       "    <tr>\n",
       "      <th>1</th>\n",
       "      <td>2</td>\n",
       "      <td>B01HTH3C8S</td>\n",
       "      <td>Anker Soundcore mini, Super-Portable Bluetooth...</td>\n",
       "      <td>4.7</td>\n",
       "      <td>98099</td>\n",
       "      <td>23.99</td>\n",
       "      <td>True</td>\n",
       "      <td>0</td>\n",
       "      <td>Hi-Fi Speakers</td>\n",
       "    </tr>\n",
       "    <tr>\n",
       "      <th>2</th>\n",
       "      <td>3</td>\n",
       "      <td>B09B8YWXDF</td>\n",
       "      <td>Echo Dot (5th generation, 2022 release) | Big ...</td>\n",
       "      <td>4.7</td>\n",
       "      <td>15308</td>\n",
       "      <td>21.99</td>\n",
       "      <td>False</td>\n",
       "      <td>0</td>\n",
       "      <td>Hi-Fi Speakers</td>\n",
       "    </tr>\n",
       "    <tr>\n",
       "      <th>3</th>\n",
       "      <td>4</td>\n",
       "      <td>B09B8T5VGV</td>\n",
       "      <td>Echo Dot with clock (5th generation, 2022 rele...</td>\n",
       "      <td>4.7</td>\n",
       "      <td>7205</td>\n",
       "      <td>31.99</td>\n",
       "      <td>False</td>\n",
       "      <td>0</td>\n",
       "      <td>Hi-Fi Speakers</td>\n",
       "    </tr>\n",
       "    <tr>\n",
       "      <th>4</th>\n",
       "      <td>5</td>\n",
       "      <td>B09WX6QD65</td>\n",
       "      <td>Introducing Echo Pop | Full sound compact Wi-F...</td>\n",
       "      <td>4.6</td>\n",
       "      <td>1881</td>\n",
       "      <td>17.99</td>\n",
       "      <td>False</td>\n",
       "      <td>0</td>\n",
       "      <td>Hi-Fi Speakers</td>\n",
       "    </tr>\n",
       "  </tbody>\n",
       "</table>\n",
       "</div>"
      ],
      "text/plain": [
       "   uid        asin                                              title  stars  \\\n",
       "0    1  B09B96TG33  Echo Dot (5th generation, 2022 release) | Big ...    4.7   \n",
       "1    2  B01HTH3C8S  Anker Soundcore mini, Super-Portable Bluetooth...    4.7   \n",
       "2    3  B09B8YWXDF  Echo Dot (5th generation, 2022 release) | Big ...    4.7   \n",
       "3    4  B09B8T5VGV  Echo Dot with clock (5th generation, 2022 rele...    4.7   \n",
       "4    5  B09WX6QD65  Introducing Echo Pop | Full sound compact Wi-F...    4.6   \n",
       "\n",
       "   reviews  price  isBestSeller  boughtInLastMonth        category  \n",
       "0    15308  21.99         False                  0  Hi-Fi Speakers  \n",
       "1    98099  23.99          True                  0  Hi-Fi Speakers  \n",
       "2    15308  21.99         False                  0  Hi-Fi Speakers  \n",
       "3     7205  31.99         False                  0  Hi-Fi Speakers  \n",
       "4     1881  17.99         False                  0  Hi-Fi Speakers  "
      ]
     },
     "execution_count": 60,
     "metadata": {},
     "output_type": "execute_result"
    }
   ],
   "source": [
    "amz.head()"
   ]
  },
  {
   "cell_type": "code",
   "execution_count": 61,
   "id": "745ca96f",
   "metadata": {},
   "outputs": [
    {
     "data": {
      "text/plain": [
       "0"
      ]
     },
     "execution_count": 61,
     "metadata": {},
     "output_type": "execute_result"
    }
   ],
   "source": [
    "amz['price'].isna().sum() #cheking for na values"
   ]
  },
  {
   "cell_type": "code",
   "execution_count": 62,
   "id": "19ae8d2e",
   "metadata": {},
   "outputs": [
    {
     "data": {
      "text/plain": [
       "20"
      ]
     },
     "execution_count": 62,
     "metadata": {},
     "output_type": "execute_result"
    }
   ],
   "source": [
    "(amz['price'] <= 0).sum() #checking fot 0 or negative values"
   ]
  },
  {
   "cell_type": "code",
   "execution_count": 63,
   "id": "e90beac2",
   "metadata": {},
   "outputs": [
    {
     "data": {
      "text/html": [
       "<div>\n",
       "<style scoped>\n",
       "    .dataframe tbody tr th:only-of-type {\n",
       "        vertical-align: middle;\n",
       "    }\n",
       "\n",
       "    .dataframe tbody tr th {\n",
       "        vertical-align: top;\n",
       "    }\n",
       "\n",
       "    .dataframe thead th {\n",
       "        text-align: right;\n",
       "    }\n",
       "</style>\n",
       "<table border=\"1\" class=\"dataframe\">\n",
       "  <thead>\n",
       "    <tr style=\"text-align: right;\">\n",
       "      <th></th>\n",
       "      <th>uid</th>\n",
       "      <th>asin</th>\n",
       "      <th>title</th>\n",
       "      <th>stars</th>\n",
       "      <th>reviews</th>\n",
       "      <th>price</th>\n",
       "      <th>isBestSeller</th>\n",
       "      <th>boughtInLastMonth</th>\n",
       "      <th>category</th>\n",
       "    </tr>\n",
       "  </thead>\n",
       "  <tbody>\n",
       "    <tr>\n",
       "      <th>342871</th>\n",
       "      <td>367018</td>\n",
       "      <td>B07TYXW54L</td>\n",
       "      <td>Exercises with Resistance Loop Bands: 40+ Exer...</td>\n",
       "      <td>4.1</td>\n",
       "      <td>94</td>\n",
       "      <td>0.0</td>\n",
       "      <td>False</td>\n",
       "      <td>0</td>\n",
       "      <td>Sports &amp; Outdoors</td>\n",
       "    </tr>\n",
       "    <tr>\n",
       "      <th>546823</th>\n",
       "      <td>589599</td>\n",
       "      <td>B003WL4O38</td>\n",
       "      <td>Operation Mincemeat: The True Spy Story that C...</td>\n",
       "      <td>4.5</td>\n",
       "      <td>5795</td>\n",
       "      <td>0.0</td>\n",
       "      <td>False</td>\n",
       "      <td>0</td>\n",
       "      <td>PC &amp; Video Games</td>\n",
       "    </tr>\n",
       "    <tr>\n",
       "      <th>547321</th>\n",
       "      <td>590132</td>\n",
       "      <td>B005KKRRVK</td>\n",
       "      <td>Kensuke’s Kingdom</td>\n",
       "      <td>4.7</td>\n",
       "      <td>4565</td>\n",
       "      <td>0.0</td>\n",
       "      <td>False</td>\n",
       "      <td>0</td>\n",
       "      <td>PC &amp; Video Games</td>\n",
       "    </tr>\n",
       "    <tr>\n",
       "      <th>547507</th>\n",
       "      <td>590332</td>\n",
       "      <td>B09WRXGQZL</td>\n",
       "      <td>Faith, Hope and Carnage</td>\n",
       "      <td>4.7</td>\n",
       "      <td>546</td>\n",
       "      <td>0.0</td>\n",
       "      <td>False</td>\n",
       "      <td>0</td>\n",
       "      <td>PC &amp; Video Games</td>\n",
       "    </tr>\n",
       "    <tr>\n",
       "      <th>794353</th>\n",
       "      <td>855945</td>\n",
       "      <td>B07T7L39TN</td>\n",
       "      <td>Never Split the Difference: Negotiating as if ...</td>\n",
       "      <td>4.6</td>\n",
       "      <td>39112</td>\n",
       "      <td>0.0</td>\n",
       "      <td>True</td>\n",
       "      <td>0</td>\n",
       "      <td>School &amp; Educational Supplies</td>\n",
       "    </tr>\n",
       "    <tr>\n",
       "      <th>830446</th>\n",
       "      <td>905582</td>\n",
       "      <td>B00E3SYBWS</td>\n",
       "      <td>Go for the Gold, Atalanta! (Myth-O-Mania Book 8)</td>\n",
       "      <td>4.7</td>\n",
       "      <td>190</td>\n",
       "      <td>0.0</td>\n",
       "      <td>False</td>\n",
       "      <td>0</td>\n",
       "      <td>Games &amp; Game Accessories</td>\n",
       "    </tr>\n",
       "    <tr>\n",
       "      <th>830795</th>\n",
       "      <td>905932</td>\n",
       "      <td>B0BJQQZ79H</td>\n",
       "      <td>Battle of the Fang: Space Marine Battles: Warh...</td>\n",
       "      <td>4.6</td>\n",
       "      <td>166</td>\n",
       "      <td>0.0</td>\n",
       "      <td>False</td>\n",
       "      <td>0</td>\n",
       "      <td>Games &amp; Game Accessories</td>\n",
       "    </tr>\n",
       "    <tr>\n",
       "      <th>833556</th>\n",
       "      <td>908772</td>\n",
       "      <td>B07YGP8442</td>\n",
       "      <td>100 Years of Leeds United</td>\n",
       "      <td>4.8</td>\n",
       "      <td>1349</td>\n",
       "      <td>0.0</td>\n",
       "      <td>False</td>\n",
       "      <td>0</td>\n",
       "      <td>Games &amp; Game Accessories</td>\n",
       "    </tr>\n",
       "    <tr>\n",
       "      <th>836136</th>\n",
       "      <td>911439</td>\n",
       "      <td>B0BLFPRMZH</td>\n",
       "      <td>Dungeons &amp; Guardians: Battleborne, Book III</td>\n",
       "      <td>4.7</td>\n",
       "      <td>2421</td>\n",
       "      <td>0.0</td>\n",
       "      <td>False</td>\n",
       "      <td>0</td>\n",
       "      <td>Games &amp; Game Accessories</td>\n",
       "    </tr>\n",
       "    <tr>\n",
       "      <th>1025782</th>\n",
       "      <td>1134431</td>\n",
       "      <td>B0BL8LQCHZ</td>\n",
       "      <td>4 in 1 Bundle Off the Grid Survival Book, Prep...</td>\n",
       "      <td>4.3</td>\n",
       "      <td>5</td>\n",
       "      <td>0.0</td>\n",
       "      <td>False</td>\n",
       "      <td>0</td>\n",
       "      <td>Sports &amp; Outdoors</td>\n",
       "    </tr>\n",
       "    <tr>\n",
       "      <th>1075630</th>\n",
       "      <td>1187147</td>\n",
       "      <td>B0BQHJN9KP</td>\n",
       "      <td>DMR - Digital Mobile Radio Explained BTECH DMR...</td>\n",
       "      <td>4.6</td>\n",
       "      <td>3</td>\n",
       "      <td>0.0</td>\n",
       "      <td>False</td>\n",
       "      <td>0</td>\n",
       "      <td>Radio Communication</td>\n",
       "    </tr>\n",
       "    <tr>\n",
       "      <th>1181667</th>\n",
       "      <td>1306244</td>\n",
       "      <td>B002SQBB7A</td>\n",
       "      <td>The Gruffalo Song &amp; Other Songs</td>\n",
       "      <td>4.2</td>\n",
       "      <td>142</td>\n",
       "      <td>0.0</td>\n",
       "      <td>False</td>\n",
       "      <td>0</td>\n",
       "      <td>Piano &amp; Keyboard</td>\n",
       "    </tr>\n",
       "    <tr>\n",
       "      <th>1184254</th>\n",
       "      <td>1308885</td>\n",
       "      <td>B0CJS3HXG6</td>\n",
       "      <td>Jesu, joy of man's desiring</td>\n",
       "      <td>3.2</td>\n",
       "      <td>6</td>\n",
       "      <td>0.0</td>\n",
       "      <td>False</td>\n",
       "      <td>0</td>\n",
       "      <td>Piano &amp; Keyboard</td>\n",
       "    </tr>\n",
       "    <tr>\n",
       "      <th>1324575</th>\n",
       "      <td>1462627</td>\n",
       "      <td>B09MJDT7GG</td>\n",
       "      <td>The Myth of Normal: Trauma, Illness &amp; Healing ...</td>\n",
       "      <td>4.7</td>\n",
       "      <td>2968</td>\n",
       "      <td>0.0</td>\n",
       "      <td>False</td>\n",
       "      <td>0</td>\n",
       "      <td>Health &amp; Personal Care</td>\n",
       "    </tr>\n",
       "    <tr>\n",
       "      <th>1373497</th>\n",
       "      <td>1513026</td>\n",
       "      <td>B00C9FUNAQ</td>\n",
       "      <td>The Advent Calendar</td>\n",
       "      <td>4.6</td>\n",
       "      <td>56</td>\n",
       "      <td>0.0</td>\n",
       "      <td>False</td>\n",
       "      <td>0</td>\n",
       "      <td>Toy Advent Calendars</td>\n",
       "    </tr>\n",
       "    <tr>\n",
       "      <th>1422882</th>\n",
       "      <td>1565480</td>\n",
       "      <td>B0055SY77Y</td>\n",
       "      <td>Einstein's Tennis Racket (Einstein-Uber years)</td>\n",
       "      <td>5.0</td>\n",
       "      <td>1</td>\n",
       "      <td>0.0</td>\n",
       "      <td>False</td>\n",
       "      <td>0</td>\n",
       "      <td>Sports &amp; Outdoors</td>\n",
       "    </tr>\n",
       "    <tr>\n",
       "      <th>1531995</th>\n",
       "      <td>1726672</td>\n",
       "      <td>B07YGP8442</td>\n",
       "      <td>100 Years of Leeds United</td>\n",
       "      <td>4.8</td>\n",
       "      <td>1349</td>\n",
       "      <td>0.0</td>\n",
       "      <td>False</td>\n",
       "      <td>0</td>\n",
       "      <td>Sports &amp; Outdoors</td>\n",
       "    </tr>\n",
       "    <tr>\n",
       "      <th>1532255</th>\n",
       "      <td>1727033</td>\n",
       "      <td>B082H1M3WM</td>\n",
       "      <td>Folklore and Fables II: An alternative look at...</td>\n",
       "      <td>4.7</td>\n",
       "      <td>14</td>\n",
       "      <td>0.0</td>\n",
       "      <td>False</td>\n",
       "      <td>0</td>\n",
       "      <td>Sports &amp; Outdoors</td>\n",
       "    </tr>\n",
       "    <tr>\n",
       "      <th>1611982</th>\n",
       "      <td>1814018</td>\n",
       "      <td>B07T7L39TN</td>\n",
       "      <td>Never Split the Difference: Negotiating as if ...</td>\n",
       "      <td>4.6</td>\n",
       "      <td>39158</td>\n",
       "      <td>0.0</td>\n",
       "      <td>True</td>\n",
       "      <td>0</td>\n",
       "      <td>Professional Education Supplies</td>\n",
       "    </tr>\n",
       "    <tr>\n",
       "      <th>1696245</th>\n",
       "      <td>1910119</td>\n",
       "      <td>B07VHSVDTY</td>\n",
       "      <td>How Not to Diet: The Groundbreaking Science of...</td>\n",
       "      <td>4.7</td>\n",
       "      <td>6187</td>\n",
       "      <td>0.0</td>\n",
       "      <td>False</td>\n",
       "      <td>0</td>\n",
       "      <td>Sports Supplements</td>\n",
       "    </tr>\n",
       "  </tbody>\n",
       "</table>\n",
       "</div>"
      ],
      "text/plain": [
       "             uid        asin  \\\n",
       "342871    367018  B07TYXW54L   \n",
       "546823    589599  B003WL4O38   \n",
       "547321    590132  B005KKRRVK   \n",
       "547507    590332  B09WRXGQZL   \n",
       "794353    855945  B07T7L39TN   \n",
       "830446    905582  B00E3SYBWS   \n",
       "830795    905932  B0BJQQZ79H   \n",
       "833556    908772  B07YGP8442   \n",
       "836136    911439  B0BLFPRMZH   \n",
       "1025782  1134431  B0BL8LQCHZ   \n",
       "1075630  1187147  B0BQHJN9KP   \n",
       "1181667  1306244  B002SQBB7A   \n",
       "1184254  1308885  B0CJS3HXG6   \n",
       "1324575  1462627  B09MJDT7GG   \n",
       "1373497  1513026  B00C9FUNAQ   \n",
       "1422882  1565480  B0055SY77Y   \n",
       "1531995  1726672  B07YGP8442   \n",
       "1532255  1727033  B082H1M3WM   \n",
       "1611982  1814018  B07T7L39TN   \n",
       "1696245  1910119  B07VHSVDTY   \n",
       "\n",
       "                                                     title  stars  reviews  \\\n",
       "342871   Exercises with Resistance Loop Bands: 40+ Exer...    4.1       94   \n",
       "546823   Operation Mincemeat: The True Spy Story that C...    4.5     5795   \n",
       "547321                                   Kensuke’s Kingdom    4.7     4565   \n",
       "547507                             Faith, Hope and Carnage    4.7      546   \n",
       "794353   Never Split the Difference: Negotiating as if ...    4.6    39112   \n",
       "830446    Go for the Gold, Atalanta! (Myth-O-Mania Book 8)    4.7      190   \n",
       "830795   Battle of the Fang: Space Marine Battles: Warh...    4.6      166   \n",
       "833556                           100 Years of Leeds United    4.8     1349   \n",
       "836136         Dungeons & Guardians: Battleborne, Book III    4.7     2421   \n",
       "1025782  4 in 1 Bundle Off the Grid Survival Book, Prep...    4.3        5   \n",
       "1075630  DMR - Digital Mobile Radio Explained BTECH DMR...    4.6        3   \n",
       "1181667                    The Gruffalo Song & Other Songs    4.2      142   \n",
       "1184254                        Jesu, joy of man's desiring    3.2        6   \n",
       "1324575  The Myth of Normal: Trauma, Illness & Healing ...    4.7     2968   \n",
       "1373497                                The Advent Calendar    4.6       56   \n",
       "1422882     Einstein's Tennis Racket (Einstein-Uber years)    5.0        1   \n",
       "1531995                          100 Years of Leeds United    4.8     1349   \n",
       "1532255  Folklore and Fables II: An alternative look at...    4.7       14   \n",
       "1611982  Never Split the Difference: Negotiating as if ...    4.6    39158   \n",
       "1696245  How Not to Diet: The Groundbreaking Science of...    4.7     6187   \n",
       "\n",
       "         price  isBestSeller  boughtInLastMonth  \\\n",
       "342871     0.0         False                  0   \n",
       "546823     0.0         False                  0   \n",
       "547321     0.0         False                  0   \n",
       "547507     0.0         False                  0   \n",
       "794353     0.0          True                  0   \n",
       "830446     0.0         False                  0   \n",
       "830795     0.0         False                  0   \n",
       "833556     0.0         False                  0   \n",
       "836136     0.0         False                  0   \n",
       "1025782    0.0         False                  0   \n",
       "1075630    0.0         False                  0   \n",
       "1181667    0.0         False                  0   \n",
       "1184254    0.0         False                  0   \n",
       "1324575    0.0         False                  0   \n",
       "1373497    0.0         False                  0   \n",
       "1422882    0.0         False                  0   \n",
       "1531995    0.0         False                  0   \n",
       "1532255    0.0         False                  0   \n",
       "1611982    0.0          True                  0   \n",
       "1696245    0.0         False                  0   \n",
       "\n",
       "                                category  \n",
       "342871                 Sports & Outdoors  \n",
       "546823                  PC & Video Games  \n",
       "547321                  PC & Video Games  \n",
       "547507                  PC & Video Games  \n",
       "794353     School & Educational Supplies  \n",
       "830446          Games & Game Accessories  \n",
       "830795          Games & Game Accessories  \n",
       "833556          Games & Game Accessories  \n",
       "836136          Games & Game Accessories  \n",
       "1025782                Sports & Outdoors  \n",
       "1075630              Radio Communication  \n",
       "1181667                 Piano & Keyboard  \n",
       "1184254                 Piano & Keyboard  \n",
       "1324575           Health & Personal Care  \n",
       "1373497             Toy Advent Calendars  \n",
       "1422882                Sports & Outdoors  \n",
       "1531995                Sports & Outdoors  \n",
       "1532255                Sports & Outdoors  \n",
       "1611982  Professional Education Supplies  \n",
       "1696245               Sports Supplements  "
      ]
     },
     "execution_count": 63,
     "metadata": {},
     "output_type": "execute_result"
    }
   ],
   "source": [
    "amz[amz['price'] <= 0] # displaying the 20 values with a price of 0 or less"
   ]
  },
  {
   "cell_type": "code",
   "execution_count": 64,
   "id": "712d71ec",
   "metadata": {},
   "outputs": [],
   "source": [
    "amz = amz[amz['price'] > 0] # droping the 20 0 values since a price of 0 doesn't make sense."
   ]
  },
  {
   "cell_type": "code",
   "execution_count": 65,
   "id": "6acb0edb",
   "metadata": {},
   "outputs": [
    {
     "data": {
      "text/plain": [
       "count    2443631.00\n",
       "mean          89.24\n",
       "std          345.61\n",
       "min            0.01\n",
       "25%            9.99\n",
       "50%           19.09\n",
       "75%           45.99\n",
       "max       100000.00\n",
       "Name: price, dtype: float64"
      ]
     },
     "execution_count": 65,
     "metadata": {},
     "output_type": "execute_result"
    }
   ],
   "source": [
    "round(amz['price'].describe(),2) # Displaying some metadata for the price numerical column"
   ]
  },
  {
   "cell_type": "code",
   "execution_count": 66,
   "id": "12d5a85d",
   "metadata": {},
   "outputs": [
    {
     "name": "stdout",
     "output_type": "stream",
     "text": [
      "Mean price: 89.24\n",
      "Median price: 19.09\n",
      "Mode price: 9.99\n"
     ]
    }
   ],
   "source": [
    "mean_price = amz['price'].mean()\n",
    "median_price = amz['price'].median()\n",
    "mode_price = amz['price'].mode()[0]\n",
    "\n",
    "print(f\"Mean price: {mean_price:.2f}\")\n",
    "print(f\"Median price: {median_price:.2f}\")\n",
    "print(f\"Mode price: {mode_price:.2f}\")\n",
    "\n",
    "# mean and median can also be found in the describe method."
   ]
  },
  {
   "cell_type": "markdown",
   "id": "91bcbb7b",
   "metadata": {},
   "source": [
    "Insights:\n",
    "\n",
    "The average product price 89.24 is much higher than the median 19.09 price, showing a strong positive skew in the data.\n",
    "This means that most products are relatively inexpensive, but a few very high-priced items pull the average upward.\n",
    "The median price 19.09 represents the typical product price that most customers encounter.\n",
    "The mode price 9.99 is the most common price point across listings."
   ]
  },
  {
   "cell_type": "markdown",
   "id": "30f5ef56",
   "metadata": {},
   "source": [
    "\n",
    "2. **Measures of Dispersion**:\n",
    "    - Determine the variance, standard deviation, range, and interquartile range for product `price`.\n",
    "    - How varied are the product prices? Are there any indicators of a significant spread in prices?\n"
   ]
  },
  {
   "cell_type": "code",
   "execution_count": 67,
   "id": "5f2d4f30",
   "metadata": {},
   "outputs": [
    {
     "data": {
      "text/plain": [
       "count    2443631.00\n",
       "mean          89.24\n",
       "std          345.61\n",
       "min            0.01\n",
       "25%            9.99\n",
       "50%           19.09\n",
       "75%           45.99\n",
       "max       100000.00\n",
       "Name: price, dtype: float64"
      ]
     },
     "execution_count": 67,
     "metadata": {},
     "output_type": "execute_result"
    }
   ],
   "source": [
    "round(amz['price'].describe(),2)"
   ]
  },
  {
   "cell_type": "code",
   "execution_count": 68,
   "id": "0ef7a92b",
   "metadata": {},
   "outputs": [
    {
     "data": {
      "text/plain": [
       "119446.4"
      ]
     },
     "execution_count": 68,
     "metadata": {},
     "output_type": "execute_result"
    }
   ],
   "source": [
    "round(amz['price'].var(),2)"
   ]
  },
  {
   "cell_type": "code",
   "execution_count": 69,
   "id": "ecc998f2",
   "metadata": {},
   "outputs": [
    {
     "data": {
      "text/plain": [
       "99999.99"
      ]
     },
     "execution_count": 69,
     "metadata": {},
     "output_type": "execute_result"
    }
   ],
   "source": [
    "range= (amz['price'].max())- (amz['price'].min())\n",
    "range"
   ]
  },
  {
   "cell_type": "code",
   "execution_count": 70,
   "id": "3f30de20",
   "metadata": {},
   "outputs": [
    {
     "data": {
      "text/plain": [
       "36.0"
      ]
     },
     "execution_count": 70,
     "metadata": {},
     "output_type": "execute_result"
    }
   ],
   "source": [
    "# IQR = Q3 - Q1\n",
    "\n",
    "Q1 = amz['price'].quantile(0.25)\n",
    "Q3 = amz['price'].quantile(0.75)\n",
    "\n",
    "IQR = Q3 - Q1\n",
    "\n",
    "IQR"
   ]
  },
  {
   "cell_type": "code",
   "execution_count": 71,
   "id": "5cfa7acb",
   "metadata": {},
   "outputs": [
    {
     "data": {
      "text/plain": [
       "27.49"
      ]
     },
     "execution_count": 71,
     "metadata": {},
     "output_type": "execute_result"
    }
   ],
   "source": [
    "round(amz['price'].skew(),2)"
   ]
  },
  {
   "cell_type": "markdown",
   "id": "7359f593",
   "metadata": {},
   "source": [
    "Insights:\n",
    "\n",
    "For product price:\n",
    "The variance is 119445.49\n",
    "The standard deviation is 345.61\n",
    "The range is 100000\n",
    "The IQR is 36\n",
    "\n",
    "High Variance and Standard Deviation. These values indicate that product prices vary dramatically — from very low-cost items to high-end products.\n",
    "This huge range reinforces that a few outlier products are priced far higher than most items.\n",
    "Small IQR. Despite the wide range, the majority of products are clustered in a narrow low-price band.\n",
    "\n",
    "It is positive-skewed or right-skew. This means that the mean is higher than the mode and the distribution has a long right tail. Most of the data (product prices) are clustered on the lower end And few very large values (expensive products) stretch the tail of the distribution to the right."
   ]
  },
  {
   "cell_type": "markdown",
   "id": "770c0407",
   "metadata": {},
   "source": [
    "\n",
    "3. **Visualizations**:\n",
    "    - Is there a specific price range where most products fall? Plot a histogram to visualize the distribution of product prices. *If its hard to read these diagrams, think why this is, and explain how it could be solved.*.\n",
    "    - Are there products that are priced significantly higher than the rest? Use a box plot to showcase the spread and potential outliers in product pricing. "
   ]
  },
  {
   "cell_type": "code",
   "execution_count": 72,
   "id": "96977be9",
   "metadata": {},
   "outputs": [
    {
     "data": {
      "image/png": "[encoded data removed]",
      "text/plain": [
       "<Figure size 1000x500 with 1 Axes>"
      ]
     },
     "metadata": {},
     "output_type": "display_data"
    }
   ],
   "source": [
    "plt.figure(figsize=(10,5))\n",
    "sns.histplot(amz['price'], bins=50, kde=True, color='skyblue')\n",
    "\n",
    "plt.title(\"Distribution of Product Prices on Amazon UK\")\n",
    "plt.xlabel(\"Price (£)\")\n",
    "plt.ylabel(\"Number of Products\")\n",
    "plt.show()"
   ]
  },
  {
   "cell_type": "markdown",
   "id": "c8bbad3b",
   "metadata": {},
   "source": [
    "Insights:\n",
    "A few very high-priced products push the x-axis scale far to the right.\n",
    "So all the cheaper products (most of the data) are compressed together on the left side.\n",
    "To fix this we could excludes outliers and shows where most prices fall."
   ]
  },
  {
   "cell_type": "code",
   "execution_count": 73,
   "id": "b30a1748",
   "metadata": {},
   "outputs": [
    {
     "data": {
      "image/png": "[encoded data removed]",
      "text/plain": [
       "<Figure size 1000x500 with 1 Axes>"
      ]
     },
     "metadata": {},
     "output_type": "display_data"
    }
   ],
   "source": [
    "plt.figure(figsize=(10,5))\n",
    "sns.boxplot(x='price', data=amz, color='orange')\n",
    "\n",
    "plt.title(\"Box Plot of Product Prices on Amazon UK\")\n",
    "plt.xlabel(\"Price (£)\")\n",
    "plt.show()"
   ]
  },
  {
   "cell_type": "markdown",
   "id": "da6005a5",
   "metadata": {},
   "source": [
    "### Part 3: Unpacking Product Ratings\n",
    "\n",
    "**Business Question**: How do customers rate products on Amazon UK, and are there any patterns or tendencies in the ratings?\n"
   ]
  },
  {
   "cell_type": "markdown",
   "id": "88d37406",
   "metadata": {},
   "source": [
    "\n",
    "1. **Measures of Centrality**:\n",
    "    - Calculate the mean, median, and mode for the `rating` of products.\n",
    "    - How do customers generally rate products? Is there a common trend?\n"
   ]
  },
  {
   "cell_type": "code",
   "execution_count": 74,
   "id": "3657b288",
   "metadata": {},
   "outputs": [
    {
     "data": {
      "text/html": [
       "<div>\n",
       "<style scoped>\n",
       "    .dataframe tbody tr th:only-of-type {\n",
       "        vertical-align: middle;\n",
       "    }\n",
       "\n",
       "    .dataframe tbody tr th {\n",
       "        vertical-align: top;\n",
       "    }\n",
       "\n",
       "    .dataframe thead th {\n",
       "        text-align: right;\n",
       "    }\n",
       "</style>\n",
       "<table border=\"1\" class=\"dataframe\">\n",
       "  <thead>\n",
       "    <tr style=\"text-align: right;\">\n",
       "      <th></th>\n",
       "      <th>uid</th>\n",
       "      <th>asin</th>\n",
       "      <th>title</th>\n",
       "      <th>stars</th>\n",
       "      <th>reviews</th>\n",
       "      <th>price</th>\n",
       "      <th>isBestSeller</th>\n",
       "      <th>boughtInLastMonth</th>\n",
       "      <th>category</th>\n",
       "    </tr>\n",
       "  </thead>\n",
       "  <tbody>\n",
       "    <tr>\n",
       "      <th>0</th>\n",
       "      <td>1</td>\n",
       "      <td>B09B96TG33</td>\n",
       "      <td>Echo Dot (5th generation, 2022 release) | Big ...</td>\n",
       "      <td>4.7</td>\n",
       "      <td>15308</td>\n",
       "      <td>21.99</td>\n",
       "      <td>False</td>\n",
       "      <td>0</td>\n",
       "      <td>Hi-Fi Speakers</td>\n",
       "    </tr>\n",
       "    <tr>\n",
       "      <th>1</th>\n",
       "      <td>2</td>\n",
       "      <td>B01HTH3C8S</td>\n",
       "      <td>Anker Soundcore mini, Super-Portable Bluetooth...</td>\n",
       "      <td>4.7</td>\n",
       "      <td>98099</td>\n",
       "      <td>23.99</td>\n",
       "      <td>True</td>\n",
       "      <td>0</td>\n",
       "      <td>Hi-Fi Speakers</td>\n",
       "    </tr>\n",
       "    <tr>\n",
       "      <th>2</th>\n",
       "      <td>3</td>\n",
       "      <td>B09B8YWXDF</td>\n",
       "      <td>Echo Dot (5th generation, 2022 release) | Big ...</td>\n",
       "      <td>4.7</td>\n",
       "      <td>15308</td>\n",
       "      <td>21.99</td>\n",
       "      <td>False</td>\n",
       "      <td>0</td>\n",
       "      <td>Hi-Fi Speakers</td>\n",
       "    </tr>\n",
       "    <tr>\n",
       "      <th>3</th>\n",
       "      <td>4</td>\n",
       "      <td>B09B8T5VGV</td>\n",
       "      <td>Echo Dot with clock (5th generation, 2022 rele...</td>\n",
       "      <td>4.7</td>\n",
       "      <td>7205</td>\n",
       "      <td>31.99</td>\n",
       "      <td>False</td>\n",
       "      <td>0</td>\n",
       "      <td>Hi-Fi Speakers</td>\n",
       "    </tr>\n",
       "    <tr>\n",
       "      <th>4</th>\n",
       "      <td>5</td>\n",
       "      <td>B09WX6QD65</td>\n",
       "      <td>Introducing Echo Pop | Full sound compact Wi-F...</td>\n",
       "      <td>4.6</td>\n",
       "      <td>1881</td>\n",
       "      <td>17.99</td>\n",
       "      <td>False</td>\n",
       "      <td>0</td>\n",
       "      <td>Hi-Fi Speakers</td>\n",
       "    </tr>\n",
       "  </tbody>\n",
       "</table>\n",
       "</div>"
      ],
      "text/plain": [
       "   uid        asin                                              title  stars  \\\n",
       "0    1  B09B96TG33  Echo Dot (5th generation, 2022 release) | Big ...    4.7   \n",
       "1    2  B01HTH3C8S  Anker Soundcore mini, Super-Portable Bluetooth...    4.7   \n",
       "2    3  B09B8YWXDF  Echo Dot (5th generation, 2022 release) | Big ...    4.7   \n",
       "3    4  B09B8T5VGV  Echo Dot with clock (5th generation, 2022 rele...    4.7   \n",
       "4    5  B09WX6QD65  Introducing Echo Pop | Full sound compact Wi-F...    4.6   \n",
       "\n",
       "   reviews  price  isBestSeller  boughtInLastMonth        category  \n",
       "0    15308  21.99         False                  0  Hi-Fi Speakers  \n",
       "1    98099  23.99          True                  0  Hi-Fi Speakers  \n",
       "2    15308  21.99         False                  0  Hi-Fi Speakers  \n",
       "3     7205  31.99         False                  0  Hi-Fi Speakers  \n",
       "4     1881  17.99         False                  0  Hi-Fi Speakers  "
      ]
     },
     "execution_count": 74,
     "metadata": {},
     "output_type": "execute_result"
    }
   ],
   "source": [
    "amz.head()"
   ]
  },
  {
   "cell_type": "code",
   "execution_count": 75,
   "id": "54690c38",
   "metadata": {},
   "outputs": [],
   "source": [
    "amz_rated = amz[amz['reviews'] > 0] # removing the data with no reviews. "
   ]
  },
  {
   "cell_type": "code",
   "execution_count": 76,
   "id": "1f6b67a5",
   "metadata": {},
   "outputs": [
    {
     "data": {
      "text/plain": [
       "count    1217990.00\n",
       "mean           4.32\n",
       "std            0.56\n",
       "min            1.00\n",
       "25%            4.10\n",
       "50%            4.40\n",
       "75%            4.60\n",
       "max            5.00\n",
       "Name: stars, dtype: float64"
      ]
     },
     "execution_count": 76,
     "metadata": {},
     "output_type": "execute_result"
    }
   ],
   "source": [
    "round(amz_rated['stars'].describe(),2)"
   ]
  },
  {
   "cell_type": "code",
   "execution_count": 77,
   "id": "32a93f6c",
   "metadata": {},
   "outputs": [
    {
     "data": {
      "text/plain": [
       "0"
      ]
     },
     "execution_count": 77,
     "metadata": {},
     "output_type": "execute_result"
    }
   ],
   "source": [
    "amz_rated['stars'].isna().sum()"
   ]
  },
  {
   "cell_type": "code",
   "execution_count": 78,
   "id": "b7f8ffc0",
   "metadata": {},
   "outputs": [
    {
     "data": {
      "text/plain": [
       "0    4.5\n",
       "Name: stars, dtype: float64"
      ]
     },
     "execution_count": 78,
     "metadata": {},
     "output_type": "execute_result"
    }
   ],
   "source": [
    "mode_ratings = amz_rated['stars'].mode()\n",
    "mode_ratings"
   ]
  },
  {
   "cell_type": "markdown",
   "id": "a6f26ffc",
   "metadata": {},
   "source": [
    "Insights:\n",
    "The average rating is 4.32 stars out of 5. Quite high!\n",
    "Mode is 4.5 star rating. The most frequent rating is 4.5 stars, showing that a large share of listings consistently receive very good reviews. \n",
    "4.4 star rating stands in the 50% of the range.\n",
    "Alltoghether, reflects a high and stable customer satisfaction."
   ]
  },
  {
   "cell_type": "markdown",
   "id": "8d5c0e04",
   "metadata": {},
   "source": [
    "\n",
    "2. **Measures of Dispersion**:\n",
    "    - Determine the variance, standard deviation, and interquartile range for product `rating`.\n",
    "    - Are the ratings consistent, or is there a wide variation in customer feedback?\n"
   ]
  },
  {
   "cell_type": "code",
   "execution_count": 79,
   "id": "37b6eebc",
   "metadata": {},
   "outputs": [
    {
     "data": {
      "text/plain": [
       "0.31"
      ]
     },
     "execution_count": 79,
     "metadata": {},
     "output_type": "execute_result"
    }
   ],
   "source": [
    "var_stars = round(amz_rated['stars'].var(),2)\n",
    "var_stars\n"
   ]
  },
  {
   "cell_type": "code",
   "execution_count": 80,
   "id": "267d3efe",
   "metadata": {},
   "outputs": [
    {
     "data": {
      "text/plain": [
       "0.5"
      ]
     },
     "execution_count": 80,
     "metadata": {},
     "output_type": "execute_result"
    }
   ],
   "source": [
    "Q1stars = amz_rated['stars'].quantile(0.25)\n",
    "Q3stars = amz_rated['stars'].quantile(0.75)\n",
    "IQRstars = Q3stars - Q1stars\n",
    "IQRstars"
   ]
  },
  {
   "cell_type": "markdown",
   "id": "dd417c4d",
   "metadata": {},
   "source": [
    "Insights:\n",
    "Standard deviation is 0.56 meaning that most ratings are within half a star of the average.\n",
    "Variance is 0.31 This reinforces that most products are rated highly and similarly.\n",
    "IQR is 0.5 This shows that the middle 50% of all ratings are tightly packed so there isn’t much variability."
   ]
  },
  {
   "cell_type": "markdown",
   "id": "579161a7",
   "metadata": {},
   "source": [
    "\n",
    "3. **Shape of the Distribution**:\n",
    "    - Calculate the skewness and kurtosis for the `rating` column. \n",
    "    - Are the ratings normally distributed, or do they lean towards higher or lower values?\n"
   ]
  },
  {
   "cell_type": "code",
   "execution_count": 81,
   "id": "ffb78764",
   "metadata": {},
   "outputs": [
    {
     "data": {
      "text/plain": [
       "-2.3795622040753632"
      ]
     },
     "execution_count": 81,
     "metadata": {},
     "output_type": "execute_result"
    }
   ],
   "source": [
    "amz_rated['stars'].skew()"
   ]
  },
  {
   "cell_type": "code",
   "execution_count": 82,
   "id": "30dad7bd",
   "metadata": {},
   "outputs": [
    {
     "data": {
      "text/plain": [
       "9.781853392429765"
      ]
     },
     "execution_count": 82,
     "metadata": {},
     "output_type": "execute_result"
    }
   ],
   "source": [
    "from scipy.stats import  kurtosis\n",
    "\n",
    "kurt = kurtosis(amz_rated['stars'])\n",
    "\n",
    "kurt\n"
   ]
  },
  {
   "cell_type": "markdown",
   "id": "2c7c0b14",
   "metadata": {},
   "source": [
    "\n",
    "4. **Visualizations**:\n",
    "    - Plot a histogram to visualize the distribution of product ratings. Is there a specific rating that is more common?"
   ]
  },
  {
   "cell_type": "code",
   "execution_count": 83,
   "id": "5102b34c",
   "metadata": {},
   "outputs": [
    {
     "data": {
      "image/png": "[encoded data removed]",
      "text/plain": [
       "<Figure size 1000x500 with 1 Axes>"
      ]
     },
     "metadata": {},
     "output_type": "display_data"
    }
   ],
   "source": [
    "plt.figure(figsize=(10,5))\n",
    "sns.histplot(\n",
    "    data=amz_rated,\n",
    "    bins= 30,\n",
    "    x='stars',\n",
    "    kde=True,\n",
    "    color='blue'\n",
    ")\n",
    "\n",
    "plt.title(\"Distribution of Product Ratings on Amazon UK\")\n",
    "plt.xlabel(\"Star Rating\")\n",
    "plt.ylabel(\"Number of Products\")\n",
    "plt.show()"
   ]
  },
  {
   "cell_type": "markdown",
   "id": "3cc6a1bd",
   "metadata": {},
   "source": [
    "Insights:\n",
    "The histogram of product ratings shows that most ratings fall between 4 and 5 stars, with a clear peak around 4.5 stars — the most common rating value.\n",
    "The distribution is left-skewed, indicating that customers tend to give high ratings rather than low ones.\n",
    "This confirms that Amazon UK products are generally well received, and customer satisfaction levels are consistently strong."
   ]
  }
 ],
 "metadata": {
  "kernelspec": {
   "display_name": "base",
   "language": "python",
   "name": "python3"
  },
  "language_info": {
   "codemirror_mode": {
    "name": "ipython",
    "version": 3
   },
   "file_extension": ".py",
   "mimetype": "text/x-python",
   "name": "python",
   "nbconvert_exporter": "python",
   "pygments_lexer": "ipython3",
   "version": "3.12.7"
  }
 },
 "nbformat": 4,
 "nbformat_minor": 5
}
